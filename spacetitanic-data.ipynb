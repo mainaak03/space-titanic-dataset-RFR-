{
 "cells": [
  {
   "cell_type": "code",
   "execution_count": 1,
   "id": "7a734d37",
   "metadata": {
    "_cell_guid": "b1076dfc-b9ad-4769-8c92-a6c4dae69d19",
    "_uuid": "8f2839f25d086af736a60e9eeb907d3b93b6e0e5",
    "execution": {
     "iopub.execute_input": "2022-12-10T20:38:26.269530Z",
     "iopub.status.busy": "2022-12-10T20:38:26.268996Z",
     "iopub.status.idle": "2022-12-10T20:38:26.284955Z",
     "shell.execute_reply": "2022-12-10T20:38:26.283182Z"
    },
    "papermill": {
     "duration": 0.025108,
     "end_time": "2022-12-10T20:38:26.287576",
     "exception": false,
     "start_time": "2022-12-10T20:38:26.262468",
     "status": "completed"
    },
    "tags": []
   },
   "outputs": [
    {
     "name": "stdout",
     "output_type": "stream",
     "text": [
      "/kaggle/input/spaceship-titanic/sample_submission.csv\n",
      "/kaggle/input/spaceship-titanic/train.csv\n",
      "/kaggle/input/spaceship-titanic/test.csv\n"
     ]
    }
   ],
   "source": [
    "# This Python 3 environment comes with many helpful analytics libraries installed\n",
    "# It is defined by the kaggle/python Docker image: https://github.com/kaggle/docker-python\n",
    "# For example, here's several helpful packages to load\n",
    "\n",
    "import numpy as np # linear algebra\n",
    "import pandas as pd # data processing, CSV file I/O (e.g. pd.read_csv)\n",
    "\n",
    "# Input data files are available in the read-only \"../input/\" directory\n",
    "# For example, running this (by clicking run or pressing Shift+Enter) will list all files under the input directory\n",
    "\n",
    "import os\n",
    "for dirname, _, filenames in os.walk('/kaggle/input'):\n",
    "    for filename in filenames:\n",
    "        print(os.path.join(dirname, filename))\n",
    "\n",
    "# You can write up to 20GB to the current directory (/kaggle/working/) that gets preserved as output when you create a version using \"Save & Run All\" \n",
    "# You can also write temporary files to /kaggle/temp/, but they won't be saved outside of the current session"
   ]
  },
  {
   "cell_type": "code",
   "execution_count": 2,
   "id": "1af6cfed",
   "metadata": {
    "execution": {
     "iopub.execute_input": "2022-12-10T20:38:26.297868Z",
     "iopub.status.busy": "2022-12-10T20:38:26.297533Z",
     "iopub.status.idle": "2022-12-10T20:38:26.366870Z",
     "shell.execute_reply": "2022-12-10T20:38:26.365249Z"
    },
    "papermill": {
     "duration": 0.077533,
     "end_time": "2022-12-10T20:38:26.369486",
     "exception": false,
     "start_time": "2022-12-10T20:38:26.291953",
     "status": "completed"
    },
    "tags": []
   },
   "outputs": [],
   "source": [
    "train_data = pd.read_csv(\"/kaggle/input/spaceship-titanic/train.csv\")\n",
    "test_data = pd.read_csv(\"/kaggle/input/spaceship-titanic/test.csv\")"
   ]
  },
  {
   "cell_type": "code",
   "execution_count": 3,
   "id": "526a59d4",
   "metadata": {
    "execution": {
     "iopub.execute_input": "2022-12-10T20:38:26.379862Z",
     "iopub.status.busy": "2022-12-10T20:38:26.379097Z",
     "iopub.status.idle": "2022-12-10T20:38:27.803955Z",
     "shell.execute_reply": "2022-12-10T20:38:27.802140Z"
    },
    "papermill": {
     "duration": 1.43281,
     "end_time": "2022-12-10T20:38:27.806652",
     "exception": false,
     "start_time": "2022-12-10T20:38:26.373842",
     "status": "completed"
    },
    "tags": []
   },
   "outputs": [],
   "source": [
    "from sklearn.ensemble import RandomForestRegressor\n",
    "from sklearn.model_selection import train_test_split"
   ]
  },
  {
   "cell_type": "code",
   "execution_count": 4,
   "id": "eab70175",
   "metadata": {
    "execution": {
     "iopub.execute_input": "2022-12-10T20:38:27.816389Z",
     "iopub.status.busy": "2022-12-10T20:38:27.816054Z",
     "iopub.status.idle": "2022-12-10T20:38:27.850773Z",
     "shell.execute_reply": "2022-12-10T20:38:27.849182Z"
    },
    "papermill": {
     "duration": 0.043169,
     "end_time": "2022-12-10T20:38:27.853973",
     "exception": false,
     "start_time": "2022-12-10T20:38:27.810804",
     "status": "completed"
    },
    "tags": []
   },
   "outputs": [
    {
     "name": "stdout",
     "output_type": "stream",
     "text": [
      "<class 'pandas.core.frame.DataFrame'>\n",
      "RangeIndex: 8693 entries, 0 to 8692\n",
      "Data columns (total 14 columns):\n",
      " #   Column        Non-Null Count  Dtype  \n",
      "---  ------        --------------  -----  \n",
      " 0   PassengerId   8693 non-null   object \n",
      " 1   HomePlanet    8492 non-null   object \n",
      " 2   CryoSleep     8476 non-null   object \n",
      " 3   Cabin         8494 non-null   object \n",
      " 4   Destination   8511 non-null   object \n",
      " 5   Age           8514 non-null   float64\n",
      " 6   VIP           8490 non-null   object \n",
      " 7   RoomService   8512 non-null   float64\n",
      " 8   FoodCourt     8510 non-null   float64\n",
      " 9   ShoppingMall  8485 non-null   float64\n",
      " 10  Spa           8510 non-null   float64\n",
      " 11  VRDeck        8505 non-null   float64\n",
      " 12  Name          8493 non-null   object \n",
      " 13  Transported   8693 non-null   bool   \n",
      "dtypes: bool(1), float64(6), object(7)\n",
      "memory usage: 891.5+ KB\n"
     ]
    }
   ],
   "source": [
    "train_data.info()"
   ]
  },
  {
   "cell_type": "code",
   "execution_count": 5,
   "id": "88f01fe6",
   "metadata": {
    "execution": {
     "iopub.execute_input": "2022-12-10T20:38:27.865419Z",
     "iopub.status.busy": "2022-12-10T20:38:27.864824Z",
     "iopub.status.idle": "2022-12-10T20:38:27.891993Z",
     "shell.execute_reply": "2022-12-10T20:38:27.890231Z"
    },
    "papermill": {
     "duration": 0.035282,
     "end_time": "2022-12-10T20:38:27.894681",
     "exception": false,
     "start_time": "2022-12-10T20:38:27.859399",
     "status": "completed"
    },
    "tags": []
   },
   "outputs": [
    {
     "name": "stdout",
     "output_type": "stream",
     "text": [
      "<class 'pandas.core.frame.DataFrame'>\n",
      "Int64Index: 6606 entries, 0 to 8692\n",
      "Data columns (total 14 columns):\n",
      " #   Column        Non-Null Count  Dtype  \n",
      "---  ------        --------------  -----  \n",
      " 0   PassengerId   6606 non-null   object \n",
      " 1   HomePlanet    6606 non-null   object \n",
      " 2   CryoSleep     6606 non-null   object \n",
      " 3   Cabin         6606 non-null   object \n",
      " 4   Destination   6606 non-null   object \n",
      " 5   Age           6606 non-null   float64\n",
      " 6   VIP           6606 non-null   object \n",
      " 7   RoomService   6606 non-null   float64\n",
      " 8   FoodCourt     6606 non-null   float64\n",
      " 9   ShoppingMall  6606 non-null   float64\n",
      " 10  Spa           6606 non-null   float64\n",
      " 11  VRDeck        6606 non-null   float64\n",
      " 12  Name          6606 non-null   object \n",
      " 13  Transported   6606 non-null   bool   \n",
      "dtypes: bool(1), float64(6), object(7)\n",
      "memory usage: 729.0+ KB\n"
     ]
    }
   ],
   "source": [
    "train_data = train_data.dropna()\n",
    "train_data.reset_index()\n",
    "train_data.info()"
   ]
  },
  {
   "cell_type": "code",
   "execution_count": 6,
   "id": "49d7c47c",
   "metadata": {
    "execution": {
     "iopub.execute_input": "2022-12-10T20:38:27.906716Z",
     "iopub.status.busy": "2022-12-10T20:38:27.905470Z",
     "iopub.status.idle": "2022-12-10T20:38:27.914702Z",
     "shell.execute_reply": "2022-12-10T20:38:27.912859Z"
    },
    "papermill": {
     "duration": 0.017612,
     "end_time": "2022-12-10T20:38:27.917105",
     "exception": false,
     "start_time": "2022-12-10T20:38:27.899493",
     "status": "completed"
    },
    "tags": []
   },
   "outputs": [],
   "source": [
    "features = [\"CryoSleep\", \"Age\", \"VIP\", \"RoomService\", \"FoodCourt\", \"ShoppingMall\", \"Spa\", \"VRDeck\"]\n",
    "train_x = train_data[features]\n",
    "train_y = train_data[\"Transported\"]"
   ]
  },
  {
   "cell_type": "code",
   "execution_count": 7,
   "id": "ef5fe7f9",
   "metadata": {
    "execution": {
     "iopub.execute_input": "2022-12-10T20:38:27.928006Z",
     "iopub.status.busy": "2022-12-10T20:38:27.927672Z",
     "iopub.status.idle": "2022-12-10T20:38:27.955995Z",
     "shell.execute_reply": "2022-12-10T20:38:27.954582Z"
    },
    "papermill": {
     "duration": 0.03682,
     "end_time": "2022-12-10T20:38:27.958393",
     "exception": false,
     "start_time": "2022-12-10T20:38:27.921573",
     "status": "completed"
    },
    "tags": []
   },
   "outputs": [
    {
     "data": {
      "text/html": [
       "<div>\n",
       "<style scoped>\n",
       "    .dataframe tbody tr th:only-of-type {\n",
       "        vertical-align: middle;\n",
       "    }\n",
       "\n",
       "    .dataframe tbody tr th {\n",
       "        vertical-align: top;\n",
       "    }\n",
       "\n",
       "    .dataframe thead th {\n",
       "        text-align: right;\n",
       "    }\n",
       "</style>\n",
       "<table border=\"1\" class=\"dataframe\">\n",
       "  <thead>\n",
       "    <tr style=\"text-align: right;\">\n",
       "      <th></th>\n",
       "      <th>Age</th>\n",
       "      <th>RoomService</th>\n",
       "      <th>FoodCourt</th>\n",
       "      <th>ShoppingMall</th>\n",
       "      <th>Spa</th>\n",
       "      <th>VRDeck</th>\n",
       "      <th>CryoSleep_True</th>\n",
       "      <th>VIP_True</th>\n",
       "    </tr>\n",
       "  </thead>\n",
       "  <tbody>\n",
       "    <tr>\n",
       "      <th>0</th>\n",
       "      <td>39.0</td>\n",
       "      <td>0.0</td>\n",
       "      <td>0.0</td>\n",
       "      <td>0.0</td>\n",
       "      <td>0.0</td>\n",
       "      <td>0.0</td>\n",
       "      <td>0</td>\n",
       "      <td>0</td>\n",
       "    </tr>\n",
       "    <tr>\n",
       "      <th>1</th>\n",
       "      <td>24.0</td>\n",
       "      <td>109.0</td>\n",
       "      <td>9.0</td>\n",
       "      <td>25.0</td>\n",
       "      <td>549.0</td>\n",
       "      <td>44.0</td>\n",
       "      <td>0</td>\n",
       "      <td>0</td>\n",
       "    </tr>\n",
       "    <tr>\n",
       "      <th>2</th>\n",
       "      <td>58.0</td>\n",
       "      <td>43.0</td>\n",
       "      <td>3576.0</td>\n",
       "      <td>0.0</td>\n",
       "      <td>6715.0</td>\n",
       "      <td>49.0</td>\n",
       "      <td>0</td>\n",
       "      <td>1</td>\n",
       "    </tr>\n",
       "    <tr>\n",
       "      <th>3</th>\n",
       "      <td>33.0</td>\n",
       "      <td>0.0</td>\n",
       "      <td>1283.0</td>\n",
       "      <td>371.0</td>\n",
       "      <td>3329.0</td>\n",
       "      <td>193.0</td>\n",
       "      <td>0</td>\n",
       "      <td>0</td>\n",
       "    </tr>\n",
       "    <tr>\n",
       "      <th>4</th>\n",
       "      <td>16.0</td>\n",
       "      <td>303.0</td>\n",
       "      <td>70.0</td>\n",
       "      <td>151.0</td>\n",
       "      <td>565.0</td>\n",
       "      <td>2.0</td>\n",
       "      <td>0</td>\n",
       "      <td>0</td>\n",
       "    </tr>\n",
       "  </tbody>\n",
       "</table>\n",
       "</div>"
      ],
      "text/plain": [
       "    Age  RoomService  FoodCourt  ShoppingMall     Spa  VRDeck  CryoSleep_True  \\\n",
       "0  39.0          0.0        0.0           0.0     0.0     0.0               0   \n",
       "1  24.0        109.0        9.0          25.0   549.0    44.0               0   \n",
       "2  58.0         43.0     3576.0           0.0  6715.0    49.0               0   \n",
       "3  33.0          0.0     1283.0         371.0  3329.0   193.0               0   \n",
       "4  16.0        303.0       70.0         151.0   565.0     2.0               0   \n",
       "\n",
       "   VIP_True  \n",
       "0         0  \n",
       "1         0  \n",
       "2         1  \n",
       "3         0  \n",
       "4         0  "
      ]
     },
     "execution_count": 7,
     "metadata": {},
     "output_type": "execute_result"
    }
   ],
   "source": [
    "train_x = pd.get_dummies(train_x, drop_first=True, columns=[\"CryoSleep\", \"VIP\"])\n",
    "train_x.head()"
   ]
  },
  {
   "cell_type": "code",
   "execution_count": 8,
   "id": "08d0c029",
   "metadata": {
    "execution": {
     "iopub.execute_input": "2022-12-10T20:38:27.968901Z",
     "iopub.status.busy": "2022-12-10T20:38:27.968551Z",
     "iopub.status.idle": "2022-12-10T20:38:27.981814Z",
     "shell.execute_reply": "2022-12-10T20:38:27.980410Z"
    },
    "papermill": {
     "duration": 0.021235,
     "end_time": "2022-12-10T20:38:27.984084",
     "exception": false,
     "start_time": "2022-12-10T20:38:27.962849",
     "status": "completed"
    },
    "tags": []
   },
   "outputs": [
    {
     "data": {
      "text/html": [
       "<div>\n",
       "<style scoped>\n",
       "    .dataframe tbody tr th:only-of-type {\n",
       "        vertical-align: middle;\n",
       "    }\n",
       "\n",
       "    .dataframe tbody tr th {\n",
       "        vertical-align: top;\n",
       "    }\n",
       "\n",
       "    .dataframe thead th {\n",
       "        text-align: right;\n",
       "    }\n",
       "</style>\n",
       "<table border=\"1\" class=\"dataframe\">\n",
       "  <thead>\n",
       "    <tr style=\"text-align: right;\">\n",
       "      <th></th>\n",
       "      <th>True</th>\n",
       "    </tr>\n",
       "  </thead>\n",
       "  <tbody>\n",
       "    <tr>\n",
       "      <th>0</th>\n",
       "      <td>0</td>\n",
       "    </tr>\n",
       "    <tr>\n",
       "      <th>1</th>\n",
       "      <td>1</td>\n",
       "    </tr>\n",
       "    <tr>\n",
       "      <th>2</th>\n",
       "      <td>0</td>\n",
       "    </tr>\n",
       "    <tr>\n",
       "      <th>3</th>\n",
       "      <td>0</td>\n",
       "    </tr>\n",
       "    <tr>\n",
       "      <th>4</th>\n",
       "      <td>1</td>\n",
       "    </tr>\n",
       "  </tbody>\n",
       "</table>\n",
       "</div>"
      ],
      "text/plain": [
       "   True\n",
       "0     0\n",
       "1     1\n",
       "2     0\n",
       "3     0\n",
       "4     1"
      ]
     },
     "execution_count": 8,
     "metadata": {},
     "output_type": "execute_result"
    }
   ],
   "source": [
    "train_y = pd.get_dummies(train_y, drop_first=True)\n",
    "train_y.head()"
   ]
  },
  {
   "cell_type": "code",
   "execution_count": 9,
   "id": "898c767d",
   "metadata": {
    "execution": {
     "iopub.execute_input": "2022-12-10T20:38:27.994593Z",
     "iopub.status.busy": "2022-12-10T20:38:27.994002Z",
     "iopub.status.idle": "2022-12-10T20:38:29.459474Z",
     "shell.execute_reply": "2022-12-10T20:38:29.457491Z"
    },
    "papermill": {
     "duration": 1.473765,
     "end_time": "2022-12-10T20:38:29.462302",
     "exception": false,
     "start_time": "2022-12-10T20:38:27.988537",
     "status": "completed"
    },
    "tags": []
   },
   "outputs": [
    {
     "name": "stderr",
     "output_type": "stream",
     "text": [
      "[Parallel(n_jobs=1)]: Using backend SequentialBackend with 1 concurrent workers.\n",
      "[Parallel(n_jobs=1)]: Done 100 out of 100 | elapsed:    1.4s finished\n"
     ]
    },
    {
     "data": {
      "text/plain": [
       "RandomForestRegressor(random_state=1, verbose=1)"
      ]
     },
     "execution_count": 9,
     "metadata": {},
     "output_type": "execute_result"
    }
   ],
   "source": [
    "model = RandomForestRegressor(random_state=1, verbose=1)\n",
    "model.fit(train_x, train_y.values.ravel())"
   ]
  },
  {
   "cell_type": "code",
   "execution_count": 10,
   "id": "14d08e2f",
   "metadata": {
    "execution": {
     "iopub.execute_input": "2022-12-10T20:38:29.473449Z",
     "iopub.status.busy": "2022-12-10T20:38:29.473098Z",
     "iopub.status.idle": "2022-12-10T20:38:29.489814Z",
     "shell.execute_reply": "2022-12-10T20:38:29.488676Z"
    },
    "papermill": {
     "duration": 0.025789,
     "end_time": "2022-12-10T20:38:29.493003",
     "exception": false,
     "start_time": "2022-12-10T20:38:29.467214",
     "status": "completed"
    },
    "tags": []
   },
   "outputs": [
    {
     "name": "stdout",
     "output_type": "stream",
     "text": [
      "<class 'pandas.core.frame.DataFrame'>\n",
      "RangeIndex: 4277 entries, 0 to 4276\n",
      "Data columns (total 8 columns):\n",
      " #   Column        Non-Null Count  Dtype  \n",
      "---  ------        --------------  -----  \n",
      " 0   CryoSleep     4277 non-null   object \n",
      " 1   Age           4277 non-null   float64\n",
      " 2   VIP           4277 non-null   object \n",
      " 3   RoomService   4277 non-null   float64\n",
      " 4   FoodCourt     4277 non-null   float64\n",
      " 5   ShoppingMall  4277 non-null   float64\n",
      " 6   Spa           4277 non-null   float64\n",
      " 7   VRDeck        4277 non-null   float64\n",
      "dtypes: float64(6), object(2)\n",
      "memory usage: 267.4+ KB\n"
     ]
    }
   ],
   "source": [
    "test_x = test_data[features]\n",
    "test_x = test_x.fillna(0)\n",
    "test_x.info()"
   ]
  },
  {
   "cell_type": "code",
   "execution_count": 11,
   "id": "b9eb7903",
   "metadata": {
    "execution": {
     "iopub.execute_input": "2022-12-10T20:38:29.504455Z",
     "iopub.status.busy": "2022-12-10T20:38:29.504072Z",
     "iopub.status.idle": "2022-12-10T20:38:29.522971Z",
     "shell.execute_reply": "2022-12-10T20:38:29.521922Z"
    },
    "papermill": {
     "duration": 0.026506,
     "end_time": "2022-12-10T20:38:29.524699",
     "exception": false,
     "start_time": "2022-12-10T20:38:29.498193",
     "status": "completed"
    },
    "tags": []
   },
   "outputs": [
    {
     "data": {
      "text/html": [
       "<div>\n",
       "<style scoped>\n",
       "    .dataframe tbody tr th:only-of-type {\n",
       "        vertical-align: middle;\n",
       "    }\n",
       "\n",
       "    .dataframe tbody tr th {\n",
       "        vertical-align: top;\n",
       "    }\n",
       "\n",
       "    .dataframe thead th {\n",
       "        text-align: right;\n",
       "    }\n",
       "</style>\n",
       "<table border=\"1\" class=\"dataframe\">\n",
       "  <thead>\n",
       "    <tr style=\"text-align: right;\">\n",
       "      <th></th>\n",
       "      <th>Age</th>\n",
       "      <th>RoomService</th>\n",
       "      <th>FoodCourt</th>\n",
       "      <th>ShoppingMall</th>\n",
       "      <th>Spa</th>\n",
       "      <th>VRDeck</th>\n",
       "      <th>CryoSleep_True</th>\n",
       "      <th>VIP_True</th>\n",
       "    </tr>\n",
       "  </thead>\n",
       "  <tbody>\n",
       "    <tr>\n",
       "      <th>0</th>\n",
       "      <td>27.0</td>\n",
       "      <td>0.0</td>\n",
       "      <td>0.0</td>\n",
       "      <td>0.0</td>\n",
       "      <td>0.0</td>\n",
       "      <td>0.0</td>\n",
       "      <td>1</td>\n",
       "      <td>0</td>\n",
       "    </tr>\n",
       "    <tr>\n",
       "      <th>1</th>\n",
       "      <td>19.0</td>\n",
       "      <td>0.0</td>\n",
       "      <td>9.0</td>\n",
       "      <td>0.0</td>\n",
       "      <td>2823.0</td>\n",
       "      <td>0.0</td>\n",
       "      <td>0</td>\n",
       "      <td>0</td>\n",
       "    </tr>\n",
       "    <tr>\n",
       "      <th>2</th>\n",
       "      <td>31.0</td>\n",
       "      <td>0.0</td>\n",
       "      <td>0.0</td>\n",
       "      <td>0.0</td>\n",
       "      <td>0.0</td>\n",
       "      <td>0.0</td>\n",
       "      <td>1</td>\n",
       "      <td>0</td>\n",
       "    </tr>\n",
       "    <tr>\n",
       "      <th>3</th>\n",
       "      <td>38.0</td>\n",
       "      <td>0.0</td>\n",
       "      <td>6652.0</td>\n",
       "      <td>0.0</td>\n",
       "      <td>181.0</td>\n",
       "      <td>585.0</td>\n",
       "      <td>0</td>\n",
       "      <td>0</td>\n",
       "    </tr>\n",
       "    <tr>\n",
       "      <th>4</th>\n",
       "      <td>20.0</td>\n",
       "      <td>10.0</td>\n",
       "      <td>0.0</td>\n",
       "      <td>635.0</td>\n",
       "      <td>0.0</td>\n",
       "      <td>0.0</td>\n",
       "      <td>0</td>\n",
       "      <td>0</td>\n",
       "    </tr>\n",
       "  </tbody>\n",
       "</table>\n",
       "</div>"
      ],
      "text/plain": [
       "    Age  RoomService  FoodCourt  ShoppingMall     Spa  VRDeck  CryoSleep_True  \\\n",
       "0  27.0          0.0        0.0           0.0     0.0     0.0               1   \n",
       "1  19.0          0.0        9.0           0.0  2823.0     0.0               0   \n",
       "2  31.0          0.0        0.0           0.0     0.0     0.0               1   \n",
       "3  38.0          0.0     6652.0           0.0   181.0   585.0               0   \n",
       "4  20.0         10.0        0.0         635.0     0.0     0.0               0   \n",
       "\n",
       "   VIP_True  \n",
       "0         0  \n",
       "1         0  \n",
       "2         0  \n",
       "3         0  \n",
       "4         0  "
      ]
     },
     "execution_count": 11,
     "metadata": {},
     "output_type": "execute_result"
    }
   ],
   "source": [
    "test_x = pd.get_dummies(test_x, drop_first=True, columns=[\"CryoSleep\", \"VIP\"])\n",
    "test_x.head()"
   ]
  },
  {
   "cell_type": "code",
   "execution_count": 12,
   "id": "bcbae8d3",
   "metadata": {
    "execution": {
     "iopub.execute_input": "2022-12-10T20:38:29.536497Z",
     "iopub.status.busy": "2022-12-10T20:38:29.535673Z",
     "iopub.status.idle": "2022-12-10T20:38:29.596581Z",
     "shell.execute_reply": "2022-12-10T20:38:29.595553Z"
    },
    "papermill": {
     "duration": 0.069985,
     "end_time": "2022-12-10T20:38:29.599628",
     "exception": false,
     "start_time": "2022-12-10T20:38:29.529643",
     "status": "completed"
    },
    "tags": []
   },
   "outputs": [
    {
     "name": "stderr",
     "output_type": "stream",
     "text": [
      "[Parallel(n_jobs=1)]: Using backend SequentialBackend with 1 concurrent workers.\n",
      "[Parallel(n_jobs=1)]: Done 100 out of 100 | elapsed:    0.1s finished\n"
     ]
    }
   ],
   "source": [
    "prediction = model.predict(test_x)"
   ]
  },
  {
   "cell_type": "code",
   "execution_count": 13,
   "id": "29426696",
   "metadata": {
    "execution": {
     "iopub.execute_input": "2022-12-10T20:38:29.610803Z",
     "iopub.status.busy": "2022-12-10T20:38:29.610475Z",
     "iopub.status.idle": "2022-12-10T20:38:29.619480Z",
     "shell.execute_reply": "2022-12-10T20:38:29.617387Z"
    },
    "papermill": {
     "duration": 0.017432,
     "end_time": "2022-12-10T20:38:29.622044",
     "exception": false,
     "start_time": "2022-12-10T20:38:29.604612",
     "status": "completed"
    },
    "tags": []
   },
   "outputs": [
    {
     "data": {
      "text/plain": [
       "array([ True, False,  True, ...,  True,  True,  True])"
      ]
     },
     "execution_count": 13,
     "metadata": {},
     "output_type": "execute_result"
    }
   ],
   "source": [
    "prediction = np.where(prediction>0.5, True, False)\n",
    "prediction"
   ]
  },
  {
   "cell_type": "code",
   "execution_count": 14,
   "id": "7db6e0b2",
   "metadata": {
    "execution": {
     "iopub.execute_input": "2022-12-10T20:38:29.635407Z",
     "iopub.status.busy": "2022-12-10T20:38:29.635044Z",
     "iopub.status.idle": "2022-12-10T20:38:29.643929Z",
     "shell.execute_reply": "2022-12-10T20:38:29.640930Z"
    },
    "papermill": {
     "duration": 0.019176,
     "end_time": "2022-12-10T20:38:29.646980",
     "exception": false,
     "start_time": "2022-12-10T20:38:29.627804",
     "status": "completed"
    },
    "tags": []
   },
   "outputs": [],
   "source": [
    "id = test_data[\"PassengerId\"]\n",
    "# prediction.head()\n",
    "prediction = pd.DataFrame({\"PassengerId\": id[:], \"Transported\": prediction[:]})"
   ]
  },
  {
   "cell_type": "code",
   "execution_count": 15,
   "id": "ec09b73c",
   "metadata": {
    "execution": {
     "iopub.execute_input": "2022-12-10T20:38:29.659727Z",
     "iopub.status.busy": "2022-12-10T20:38:29.659387Z",
     "iopub.status.idle": "2022-12-10T20:38:29.670245Z",
     "shell.execute_reply": "2022-12-10T20:38:29.669094Z"
    },
    "papermill": {
     "duration": 0.019988,
     "end_time": "2022-12-10T20:38:29.672338",
     "exception": false,
     "start_time": "2022-12-10T20:38:29.652350",
     "status": "completed"
    },
    "tags": []
   },
   "outputs": [
    {
     "data": {
      "text/html": [
       "<div>\n",
       "<style scoped>\n",
       "    .dataframe tbody tr th:only-of-type {\n",
       "        vertical-align: middle;\n",
       "    }\n",
       "\n",
       "    .dataframe tbody tr th {\n",
       "        vertical-align: top;\n",
       "    }\n",
       "\n",
       "    .dataframe thead th {\n",
       "        text-align: right;\n",
       "    }\n",
       "</style>\n",
       "<table border=\"1\" class=\"dataframe\">\n",
       "  <thead>\n",
       "    <tr style=\"text-align: right;\">\n",
       "      <th></th>\n",
       "      <th>PassengerId</th>\n",
       "      <th>Transported</th>\n",
       "    </tr>\n",
       "  </thead>\n",
       "  <tbody>\n",
       "    <tr>\n",
       "      <th>0</th>\n",
       "      <td>0013_01</td>\n",
       "      <td>True</td>\n",
       "    </tr>\n",
       "    <tr>\n",
       "      <th>1</th>\n",
       "      <td>0018_01</td>\n",
       "      <td>False</td>\n",
       "    </tr>\n",
       "    <tr>\n",
       "      <th>2</th>\n",
       "      <td>0019_01</td>\n",
       "      <td>True</td>\n",
       "    </tr>\n",
       "    <tr>\n",
       "      <th>3</th>\n",
       "      <td>0021_01</td>\n",
       "      <td>True</td>\n",
       "    </tr>\n",
       "    <tr>\n",
       "      <th>4</th>\n",
       "      <td>0023_01</td>\n",
       "      <td>False</td>\n",
       "    </tr>\n",
       "  </tbody>\n",
       "</table>\n",
       "</div>"
      ],
      "text/plain": [
       "  PassengerId  Transported\n",
       "0     0013_01         True\n",
       "1     0018_01        False\n",
       "2     0019_01         True\n",
       "3     0021_01         True\n",
       "4     0023_01        False"
      ]
     },
     "execution_count": 15,
     "metadata": {},
     "output_type": "execute_result"
    }
   ],
   "source": [
    "prediction.head()"
   ]
  },
  {
   "cell_type": "code",
   "execution_count": 16,
   "id": "97755190",
   "metadata": {
    "execution": {
     "iopub.execute_input": "2022-12-10T20:38:29.686373Z",
     "iopub.status.busy": "2022-12-10T20:38:29.686031Z",
     "iopub.status.idle": "2022-12-10T20:38:29.699206Z",
     "shell.execute_reply": "2022-12-10T20:38:29.697994Z"
    },
    "papermill": {
     "duration": 0.022813,
     "end_time": "2022-12-10T20:38:29.701786",
     "exception": false,
     "start_time": "2022-12-10T20:38:29.678973",
     "status": "completed"
    },
    "tags": []
   },
   "outputs": [],
   "source": [
    "prediction.to_csv(\"spacetitanic.csv\",index=False)"
   ]
  }
 ],
 "metadata": {
  "kernelspec": {
   "display_name": "Python 3",
   "language": "python",
   "name": "python3"
  },
  "language_info": {
   "codemirror_mode": {
    "name": "ipython",
    "version": 3
   },
   "file_extension": ".py",
   "mimetype": "text/x-python",
   "name": "python",
   "nbconvert_exporter": "python",
   "pygments_lexer": "ipython3",
   "version": "3.7.12"
  },
  "papermill": {
   "default_parameters": {},
   "duration": 14.596861,
   "end_time": "2022-12-10T20:38:30.529951",
   "environment_variables": {},
   "exception": null,
   "input_path": "__notebook__.ipynb",
   "output_path": "__notebook__.ipynb",
   "parameters": {},
   "start_time": "2022-12-10T20:38:15.933090",
   "version": "2.3.4"
  }
 },
 "nbformat": 4,
 "nbformat_minor": 5
}
